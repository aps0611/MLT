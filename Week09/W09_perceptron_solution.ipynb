{
  "nbformat": 4,
  "nbformat_minor": 0,
  "metadata": {
    "colab": {
      "provenance": []
    },
    "kernelspec": {
      "name": "python3",
      "display_name": "Python 3"
    },
    "language_info": {
      "name": "python"
    }
  },
  "cells": [
    {
      "cell_type": "code",
      "execution_count": 249,
      "metadata": {
        "id": "3TDibK0Yrxm_"
      },
      "outputs": [],
      "source": [
        "import numpy as np\n",
        "import matplotlib.pyplot as plt"
      ]
    },
    {
      "cell_type": "markdown",
      "source": [
        "# Week-9\n",
        "\n",
        "**Note to Learners**: \n",
        "\n",
        "- For questions that involve plotting, just enter $0$ as the answer in the portal.\n"
      ],
      "metadata": {
        "id": "1TBHlt7hAdN1"
      }
    },
    {
      "cell_type": "markdown",
      "source": [
        "## Dataset\n",
        "\n",
        "Run the cell given below to generate the data-matrix $\\mathbf{X}$, which is of shape $(n, d)$, where $n$ denotes the number of samples and $d$ denotes the number of features. \n",
        "\n",
        "**Do not edit this cell.**"
      ],
      "metadata": {
        "id": "XJKrscLo9qwH"
      }
    },
    {
      "cell_type": "code",
      "source": [
        "from sklearn.datasets import make_classification\n",
        "X, y = make_classification(n_samples=50, n_features=2, n_informative = 2, n_redundant = 0, n_clusters_per_class = 1, flip_y = 0, class_sep = 3, random_state=20)"
      ],
      "metadata": {
        "id": "d_H2VRQNsLly"
      },
      "execution_count": 250,
      "outputs": []
    },
    {
      "cell_type": "markdown",
      "source": [
        "flip_y = linearly seperable data\n",
        "class sep = How much seperation need to be between data points\n",
        "clusters per class = 1\n"
      ],
      "metadata": {
        "id": "9e7tfEtpYd-j"
      }
    },
    {
      "cell_type": "markdown",
      "source": [
        "## Problem 1\n",
        "How many samples are there in the dataset?\n",
        "\n"
      ],
      "metadata": {
        "id": "VAONMkaU91v7"
      }
    },
    {
      "cell_type": "code",
      "source": [
        "X.shape[0]"
      ],
      "metadata": {
        "colab": {
          "base_uri": "https://localhost:8080/"
        },
        "id": "cR0_1zTsYRHK",
        "outputId": "92b18bdc-49fa-4d22-b256-74c51ef21317"
      },
      "execution_count": 251,
      "outputs": [
        {
          "output_type": "execute_result",
          "data": {
            "text/plain": [
              "50"
            ]
          },
          "metadata": {},
          "execution_count": 251
        }
      ]
    },
    {
      "cell_type": "markdown",
      "source": [
        "## Problem 2\n",
        "\n",
        "How many features are there in the dataset?\n"
      ],
      "metadata": {
        "id": "ozjMS6e_91y3"
      }
    },
    {
      "cell_type": "code",
      "source": [
        "X.shape[1]"
      ],
      "metadata": {
        "colab": {
          "base_uri": "https://localhost:8080/"
        },
        "id": "mDuivWiXYXFG",
        "outputId": "08fb73b0-2800-4a70-fa56-b246b192b446"
      },
      "execution_count": 252,
      "outputs": [
        {
          "output_type": "execute_result",
          "data": {
            "text/plain": [
              "2"
            ]
          },
          "metadata": {},
          "execution_count": 252
        }
      ]
    },
    {
      "cell_type": "markdown",
      "source": [
        "## Problem 3\n",
        "In the target vector $y$, replace all occurrences of 0 with -1. \n",
        "\n",
        "How many unique classes are there in the target vector?\n",
        "\n"
      ],
      "metadata": {
        "id": "BOuGvyBUrGUH"
      }
    },
    {
      "cell_type": "code",
      "source": [
        "y"
      ],
      "metadata": {
        "colab": {
          "base_uri": "https://localhost:8080/"
        },
        "id": "rBd30SBiY4M3",
        "outputId": "ac06ddd7-0e87-4cc5-c714-9c3a08bdc69a"
      },
      "execution_count": 253,
      "outputs": [
        {
          "output_type": "execute_result",
          "data": {
            "text/plain": [
              "array([1, 1, 1, 1, 1, 1, 1, 0, 0, 1, 0, 0, 0, 1, 0, 0, 1, 1, 0, 1, 0, 1,\n",
              "       0, 0, 1, 0, 1, 0, 1, 1, 0, 1, 0, 1, 0, 1, 1, 0, 0, 0, 0, 1, 1, 0,\n",
              "       0, 0, 0, 1, 1, 0])"
            ]
          },
          "metadata": {},
          "execution_count": 253
        }
      ]
    },
    {
      "cell_type": "code",
      "source": [
        "y[y == 0] = -1"
      ],
      "metadata": {
        "id": "yruZLfd5ZimP"
      },
      "execution_count": 254,
      "outputs": []
    },
    {
      "cell_type": "code",
      "source": [
        "y"
      ],
      "metadata": {
        "colab": {
          "base_uri": "https://localhost:8080/"
        },
        "id": "FDFKpyDSaM5M",
        "outputId": "ac4e1377-4270-4d3d-c2d6-43e26cafaff0"
      },
      "execution_count": 255,
      "outputs": [
        {
          "output_type": "execute_result",
          "data": {
            "text/plain": [
              "array([ 1,  1,  1,  1,  1,  1,  1, -1, -1,  1, -1, -1, -1,  1, -1, -1,  1,\n",
              "        1, -1,  1, -1,  1, -1, -1,  1, -1,  1, -1,  1,  1, -1,  1, -1,  1,\n",
              "       -1,  1,  1, -1, -1, -1, -1,  1,  1, -1, -1, -1, -1,  1,  1, -1])"
            ]
          },
          "metadata": {},
          "execution_count": 255
        }
      ]
    },
    {
      "cell_type": "markdown",
      "source": [
        "## Problem 4\n",
        "Plot the data keepig first feature on the x-axis and the second feature on the y-axis. Plot the data points belonging to each class in different colors. Does the data seem linearly separable?\n",
        "\n",
        "[MCQ]\n",
        "\n",
        "**Options:**\n",
        "\n",
        "(a) Yes\n",
        "\n",
        "(b) No\n",
        "\n"
      ],
      "metadata": {
        "id": "2mjZDVoIqzkJ"
      }
    },
    {
      "cell_type": "code",
      "source": [
        "X[:,0] # First Feature values"
      ],
      "metadata": {
        "colab": {
          "base_uri": "https://localhost:8080/"
        },
        "id": "14SgIq2daTFQ",
        "outputId": "e7304abc-ec4b-4546-890e-671dae546ed6"
      },
      "execution_count": 256,
      "outputs": [
        {
          "output_type": "execute_result",
          "data": {
            "text/plain": [
              "array([ 4.35809465,  2.70007032,  2.92613113,  2.70492468,  1.40403442,\n",
              "        3.03688252,  2.74256066, -2.53147281, -1.90652352,  3.55224854,\n",
              "       -2.43721593, -3.82089441, -3.24465415,  4.2121494 , -2.99695052,\n",
              "       -3.01117738,  3.56210053,  1.19234332, -2.95439198,  1.94746997,\n",
              "       -3.04821703,  3.09959095, -2.68400642, -2.64798924,  3.77398178,\n",
              "       -2.02398505,  1.95338326, -3.13696594,  4.13223512,  3.61161689,\n",
              "       -2.29146275,  2.28603659, -2.43453297,  3.27785771, -3.40755161,\n",
              "        3.44739526,  2.43697964, -2.76223727, -2.87979009, -2.60693185,\n",
              "       -2.59736648,  2.3377644 ,  3.47758161, -2.89202149, -2.98141606,\n",
              "       -2.54812645, -3.30073539,  0.85750064,  3.21773047, -3.15291477])"
            ]
          },
          "metadata": {},
          "execution_count": 256
        }
      ]
    },
    {
      "cell_type": "code",
      "source": [
        "X[:,1] # Second Feature Values"
      ],
      "metadata": {
        "colab": {
          "base_uri": "https://localhost:8080/"
        },
        "id": "2A1piGkIajt1",
        "outputId": "b96e492a-426e-4763-9e01-10b811661416"
      },
      "execution_count": 257,
      "outputs": [
        {
          "output_type": "execute_result",
          "data": {
            "text/plain": [
              "array([-4.19871954, -2.60830647, -2.17831489, -2.55866532, -3.91361837,\n",
              "       -2.49014793, -2.92751451, -3.04571493, -3.03365141, -4.02550689,\n",
              "       -2.99106651, -2.96537062, -2.86970741, -3.5532501 , -3.12043248,\n",
              "       -2.95287757, -2.37323926, -2.86901581, -2.98535095, -3.32751504,\n",
              "       -2.95157601, -3.0366794 , -3.06622593, -3.02054159, -3.87848502,\n",
              "       -3.14576247, -1.29777093, -3.03770104, -2.22613331, -1.54972885,\n",
              "       -3.06222302, -2.402637  , -3.12676966, -2.26092763, -2.94077325,\n",
              "       -3.03246223, -2.53407509, -3.10148042, -3.08237552, -3.02044572,\n",
              "       -2.99673965, -3.68547144, -2.90769394, -3.05059342, -2.91060218,\n",
              "       -3.03655031, -3.03143928, -3.58817043, -3.32663048, -2.9942445 ])"
            ]
          },
          "metadata": {},
          "execution_count": 257
        }
      ]
    },
    {
      "cell_type": "code",
      "source": [
        "plt.plot(X[:,0] , X[:,1] , 'o')"
      ],
      "metadata": {
        "colab": {
          "base_uri": "https://localhost:8080/",
          "height": 282
        },
        "id": "Fd1VzapdapVF",
        "outputId": "f5fb1ca1-69d5-4fbc-cd37-028a69875284"
      },
      "execution_count": 258,
      "outputs": [
        {
          "output_type": "execute_result",
          "data": {
            "text/plain": [
              "[<matplotlib.lines.Line2D at 0x7f7f21ca2820>]"
            ]
          },
          "metadata": {},
          "execution_count": 258
        },
        {
          "output_type": "display_data",
          "data": {
            "text/plain": [
              "<Figure size 432x288 with 1 Axes>"
            ],
            "image/png": "[encoded data removed]"
          },
          "metadata": {
            "needs_background": "light"
          }
        }
      ]
    },
    {
      "cell_type": "code",
      "source": [
        "plt.plot(X[:,0][y == -1] , X[:,1][y == -1] , 'o') ## blue color points with label -1\n",
        "plt.plot(X[:,0][y == 1] , X[:,1][y == 1] , 'ro')  ## red color points with label +1\n",
        "\n",
        "## so the data is linearly seperable"
      ],
      "metadata": {
        "colab": {
          "base_uri": "https://localhost:8080/",
          "height": 282
        },
        "id": "dFkFtNCxbOZN",
        "outputId": "8b011345-c785-444e-ea0b-9e9946fae378"
      },
      "execution_count": 259,
      "outputs": [
        {
          "output_type": "execute_result",
          "data": {
            "text/plain": [
              "[<matplotlib.lines.Line2D at 0x7f7f21b3f6a0>]"
            ]
          },
          "metadata": {},
          "execution_count": 259
        },
        {
          "output_type": "display_data",
          "data": {
            "text/plain": [
              "<Figure size 432x288 with 1 Axes>"
            ],
            "image/png": "[encoded data removed]"
          },
          "metadata": {
            "needs_background": "light"
          }
        }
      ]
    },
    {
      "cell_type": "markdown",
      "source": [
        "## Problem 5\n",
        "\n",
        "Initialize w to be a zero vector, with shape equal to the number of features in the data.\n",
        "\n",
        "Iterate over each data point $x$ in $X$ one by one (in the same sequence as present in $X$). For each data point, compute the value of $w^Tx$. If $w^Tx \\ge 0$, predict positive class for $x$, else predict the negative class.\n",
        "\n",
        "If prediction does not match the actual class label, update the weight vector as per the following update rule:\n",
        "$$w_{new} = w_{old} + xy$$ where $x$ is the data point and $y$ is the actual label of $x$.\n",
        "\n",
        "Run the above for 10 epochs (iterations), but stop if there are no weight updates in an epoch. \n",
        "\n",
        "In which iteration, does the number of weight updates becomes zero for the first time?\n",
        "\n",
        "[NAT]\n",
        "**Options**\n",
        "\n",
        "(a) 1\n",
        "\n",
        "(b) 2\n",
        "\n",
        "(c) 3\n",
        "\n",
        "(d) 5\n",
        "\n"
      ],
      "metadata": {
        "id": "wBvVzKA-u9YM"
      }
    },
    {
      "cell_type": "code",
      "source": [
        "w = np.zeros(2)\n",
        "w"
      ],
      "metadata": {
        "colab": {
          "base_uri": "https://localhost:8080/"
        },
        "id": "JDPD79KwbpkC",
        "outputId": "04da18ae-af1c-4070-a0c7-4efb339c00d1"
      },
      "execution_count": 260,
      "outputs": [
        {
          "output_type": "execute_result",
          "data": {
            "text/plain": [
              "array([0., 0.])"
            ]
          },
          "metadata": {},
          "execution_count": 260
        }
      ]
    },
    {
      "cell_type": "code",
      "source": [
        "wt_upd_in_each_epoch = {}\n",
        "## this is to keep track of each update\n",
        "\n",
        "for epoch in range(10):\n",
        "  wt_upd_in_each_epoch[epoch] = 0\n",
        "  \n",
        "  ## check w.T @ x for each i if > 0 then 1 else -1 will be my prediction\n",
        "  for i in range(len(X)):\n",
        "    y_pred = 1 if w.T@X[i] >= 0 else -1\n",
        "    ## print(y[i], y_pred)\n",
        "  \n",
        "  ## now check actual and predicted labels are same or not | if not same then update the weight vector\n",
        "    if y[i] == 1 and y_pred == -1:\n",
        "      w = w + X[i]\n",
        "      wt_upd_in_each_epoch[epoch] += 1\n",
        "    if y[i] == -1 and y_pred == 1:\n",
        "      w = w - X[i]\n",
        "      wt_upd_in_each_epoch[epoch] += 1\n",
        "\n",
        "  if wt_upd_in_each_epoch[epoch] == 0:\n",
        "    break\n",
        "\n",
        "wt_upd_in_each_epoch\n"
      ],
      "metadata": {
        "colab": {
          "base_uri": "https://localhost:8080/"
        },
        "id": "pQLWgX0fcpfx",
        "outputId": "fd36eadc-9fbf-4cb5-a9fa-b97b79cf6066"
      },
      "execution_count": 261,
      "outputs": [
        {
          "output_type": "execute_result",
          "data": {
            "text/plain": [
              "{0: 2, 1: 0}"
            ]
          },
          "metadata": {},
          "execution_count": 261
        }
      ]
    },
    {
      "cell_type": "markdown",
      "source": [
        "## Problem 6\n",
        "Plot the vector w and the decision boundary thus obtained.\n",
        "\n"
      ],
      "metadata": {
        "id": "3zs84_zyUMZG"
      }
    },
    {
      "cell_type": "code",
      "source": [
        "plt.plot(X[:,0][y == -1] , X[:,1][y == -1] , 'o') ## blue color points with label -1\n",
        "plt.plot(X[:,0][y == 1] , X[:,1][y == 1] , 'ro')  ## red color points with label +1\n",
        "plt.quiver(0,0,w[0],w[1],scale = 25, color = 'g')\n",
        "plt.quiver(0,0,-w[1],w[0],scale = 25, color = 'y', headaxislength = 0, headlength = 0)\n",
        "plt.quiver(0,0,w[1],-w[0],scale = 25, color = 'y', headaxislength = 0, headlength = 0)\n",
        "\n",
        "plt.xlim(-5,5)\n",
        "plt.ylim(-5,5)"
      ],
      "metadata": {
        "colab": {
          "base_uri": "https://localhost:8080/",
          "height": 282
        },
        "id": "w35lwRVghVIN",
        "outputId": "b12b92ee-d047-408b-a56a-9a702fbf74fe"
      },
      "execution_count": 262,
      "outputs": [
        {
          "output_type": "execute_result",
          "data": {
            "text/plain": [
              "(-5.0, 5.0)"
            ]
          },
          "metadata": {},
          "execution_count": 262
        },
        {
          "output_type": "display_data",
          "data": {
            "text/plain": [
              "<Figure size 432x288 with 1 Axes>"
            ],
            "image/png": "[encoded data removed]"
          },
          "metadata": {
            "needs_background": "light"
          }
        }
      ]
    },
    {
      "cell_type": "markdown",
      "source": [
        "## Problem 7\n",
        "What is the value of loss using the weight vector obtained earlier?  \n"
      ],
      "metadata": {
        "id": "8jRORev-U_AQ"
      }
    },
    {
      "cell_type": "code",
      "source": [
        "## if there is a mismatch then we add one \n",
        "\n",
        "w"
      ],
      "metadata": {
        "colab": {
          "base_uri": "https://localhost:8080/"
        },
        "id": "Eme7iS2qjz0S",
        "outputId": "3b0a46ef-8bd6-4a57-b8e4-5357a3c8a7ba"
      },
      "execution_count": 263,
      "outputs": [
        {
          "output_type": "execute_result",
          "data": {
            "text/plain": [
              "array([ 6.08372134, -0.97979197])"
            ]
          },
          "metadata": {},
          "execution_count": 263
        }
      ]
    },
    {
      "cell_type": "code",
      "source": [
        "loss = 0\n",
        "\n",
        "for i in range(len(X)):\n",
        "  y_pred = 1 if w.T@X[i] >= 0 else -1\n",
        "\n",
        "  if y[i] == 1 and y_pred == -1:\n",
        "    loss +=1\n",
        "      \n",
        "  if y[i] == -1 and y_pred == 1:\n",
        "    loss +=1\n",
        "\n",
        "loss"
      ],
      "metadata": {
        "colab": {
          "base_uri": "https://localhost:8080/"
        },
        "id": "Ehzqbcm9j5QG",
        "outputId": "8bd892b3-b3e6-4c7a-cdf1-0ec365190ebc"
      },
      "execution_count": 264,
      "outputs": [
        {
          "output_type": "execute_result",
          "data": {
            "text/plain": [
              "0"
            ]
          },
          "metadata": {},
          "execution_count": 264
        }
      ]
    },
    {
      "cell_type": "markdown",
      "source": [
        "## Problem 8\n",
        "Now use the following data set, replace occurrences of 0 with -1 and visualize.\n",
        "\n",
        "**Do not edit the following cell.**\n",
        "\n"
      ],
      "metadata": {
        "id": "6Mv5kTYtVZ39"
      }
    },
    {
      "cell_type": "code",
      "source": [
        "from sklearn.datasets import make_classification\n",
        "X, y = make_classification(n_samples=50, n_features=2, n_informative = 2, n_redundant = 0, n_clusters_per_class = 1, flip_y = 0.1, class_sep = 2, random_state=20)"
      ],
      "metadata": {
        "id": "27pznw-oVeFq"
      },
      "execution_count": 265,
      "outputs": []
    },
    {
      "cell_type": "markdown",
      "source": [
        "## Problem 9\n",
        "\n",
        "Apply the Perceptron code again. \n",
        "\n",
        "What is the number of weight updates performed in epoch 10?\n",
        "\n"
      ],
      "metadata": {
        "id": "jLlsj651cjtm"
      }
    },
    {
      "cell_type": "code",
      "source": [
        "X.shape"
      ],
      "metadata": {
        "colab": {
          "base_uri": "https://localhost:8080/"
        },
        "id": "mtFryS-ylBlV",
        "outputId": "b572853d-45e1-4af6-cd3f-df8bb5e42113"
      },
      "execution_count": 266,
      "outputs": [
        {
          "output_type": "execute_result",
          "data": {
            "text/plain": [
              "(50, 2)"
            ]
          },
          "metadata": {},
          "execution_count": 266
        }
      ]
    },
    {
      "cell_type": "code",
      "source": [
        "np.unique(y)"
      ],
      "metadata": {
        "colab": {
          "base_uri": "https://localhost:8080/"
        },
        "id": "eVWaTXh8lDvC",
        "outputId": "2df505d4-0eb7-4c8e-b4fb-d4f889402dfb"
      },
      "execution_count": 267,
      "outputs": [
        {
          "output_type": "execute_result",
          "data": {
            "text/plain": [
              "array([0, 1])"
            ]
          },
          "metadata": {},
          "execution_count": 267
        }
      ]
    },
    {
      "cell_type": "code",
      "source": [
        "## Replace the zeros with minus one\n",
        "y[y == 0] = -1"
      ],
      "metadata": {
        "id": "Q7rk9gWglPQ_"
      },
      "execution_count": 268,
      "outputs": []
    },
    {
      "cell_type": "code",
      "source": [
        "## Visualise the data\n",
        "\n",
        "plt.plot(X[:,0][y==1],X[:,1][y==1], 'o')\n",
        "plt.plot(X[:,0][y==-1],X[:,1][y==-1], 'ro')\n",
        "\n",
        "# from the plot its clearly visible that the data in not linearly seperable for perceptron algorithm"
      ],
      "metadata": {
        "colab": {
          "base_uri": "https://localhost:8080/",
          "height": 282
        },
        "id": "lwIlJnk-lPIz",
        "outputId": "988e3e89-e638-49dc-947e-35273c8178df"
      },
      "execution_count": 269,
      "outputs": [
        {
          "output_type": "execute_result",
          "data": {
            "text/plain": [
              "[<matplotlib.lines.Line2D at 0x7f7f21a7ef10>]"
            ]
          },
          "metadata": {},
          "execution_count": 269
        },
        {
          "output_type": "display_data",
          "data": {
            "text/plain": [
              "<Figure size 432x288 with 1 Axes>"
            ],
            "image/png": "[encoded data removed]"
          },
          "metadata": {
            "needs_background": "light"
          }
        }
      ]
    },
    {
      "cell_type": "code",
      "source": [
        "## Performing the perceptron algorithm: \n",
        "wt_upd = {}\n",
        "\n",
        "\n",
        "for epoch in range(10):\n",
        "  wt_upd[epoch] = 0\n",
        "  ## check for every point if wTx >=0 then 1 else -1 is my prediction\n",
        "  for i in range(len(X)):\n",
        "    y_pred = 1 if w.T@X[i] >= 0 else -1\n",
        "\n",
        "    ## there can be two types of mistakes:\n",
        "    if y[i] == 1 and y_pred == -1:\n",
        "      w = w + X[i]\n",
        "      wt_upd[epoch] +=1\n",
        "\n",
        "    if y[i] == -1 and y_pred == 1:\n",
        "      w = w - X[i]\n",
        "      wt_upd[epoch] +=1\n",
        "  if wt_upd[epoch] == 0:\n",
        "    break\n",
        "wt_upd"
      ],
      "metadata": {
        "colab": {
          "base_uri": "https://localhost:8080/"
        },
        "id": "anQACCJ8mFgM",
        "outputId": "c22f1b0c-2805-460a-f1f6-d3d0639e8bc2"
      },
      "execution_count": 270,
      "outputs": [
        {
          "output_type": "execute_result",
          "data": {
            "text/plain": [
              "{0: 9, 1: 12, 2: 10, 3: 10, 4: 11, 5: 10, 6: 11, 7: 10, 8: 12, 9: 9}"
            ]
          },
          "metadata": {},
          "execution_count": 270
        }
      ]
    },
    {
      "cell_type": "markdown",
      "source": [
        "## Problem 10\n",
        "Visualize the weight vector and the decision boundary.\n",
        "\n"
      ],
      "metadata": {
        "id": "iVxGOLbocqVv"
      }
    },
    {
      "cell_type": "code",
      "source": [
        "plt.plot(X[:,0][y == -1] , X[:,1][y == -1] , 'o') ## blue color points with label -1\n",
        "plt.plot(X[:,0][y == 1] , X[:,1][y == 1] , 'ro')  ## red color points with label +1\n",
        "plt.quiver(0,0,w[0],w[1],scale = 15, color = 'g')\n",
        "plt.quiver(0,0,-w[1],w[0],scale = 15, color = 'y', headaxislength = 0, headlength = 0)\n",
        "plt.quiver(0,0,w[1],-w[0],scale = 15, color = 'y', headaxislength = 0, headlength = 0)\n",
        "\n",
        "plt.xlim(-5,5)\n",
        "plt.ylim(-5,5)"
      ],
      "metadata": {
        "colab": {
          "base_uri": "https://localhost:8080/",
          "height": 282
        },
        "id": "M54MJgNYn1cS",
        "outputId": "fc08b24d-b570-4375-f693-34fe75650a2b"
      },
      "execution_count": 271,
      "outputs": [
        {
          "output_type": "execute_result",
          "data": {
            "text/plain": [
              "(-5.0, 5.0)"
            ]
          },
          "metadata": {},
          "execution_count": 271
        },
        {
          "output_type": "display_data",
          "data": {
            "text/plain": [
              "<Figure size 432x288 with 1 Axes>"
            ],
            "image/png": "[encoded data removed]"
          },
          "metadata": {
            "needs_background": "light"
          }
        }
      ]
    },
    {
      "cell_type": "markdown",
      "source": [
        "## Problem 11\n",
        "What is the value of loss using the weight vector obtained in the 10th epoch?\n",
        "\n"
      ],
      "metadata": {
        "id": "H43OonpNVuMD"
      }
    },
    {
      "cell_type": "code",
      "source": [
        "loss = 0\n",
        "\n",
        "for i in range(len(X)):\n",
        "  y_pred = 1 if w.T@X[i] >= 0 else -1\n",
        "\n",
        "  if y[i] == 1 and y_pred == -1:\n",
        "    loss +=1\n",
        "      \n",
        "  if y[i] == -1 and y_pred == 1:\n",
        "    loss +=1\n",
        "\n",
        "loss"
      ],
      "metadata": {
        "colab": {
          "base_uri": "https://localhost:8080/"
        },
        "id": "PV8Oh73toNyn",
        "outputId": "094b5344-f33f-48c3-9b4f-a088f0deee4c"
      },
      "execution_count": 272,
      "outputs": [
        {
          "output_type": "execute_result",
          "data": {
            "text/plain": [
              "7"
            ]
          },
          "metadata": {},
          "execution_count": 272
        }
      ]
    },
    {
      "cell_type": "code",
      "source": [],
      "metadata": {
        "id": "hk2Fvx4aoVtT"
      },
      "execution_count": 272,
      "outputs": []
    }
  ]
}