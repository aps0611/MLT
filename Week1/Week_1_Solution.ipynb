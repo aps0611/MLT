{
  "nbformat": 4,
  "nbformat_minor": 0,
  "metadata": {
    "colab": {
      "provenance": [],
      "collapsed_sections": []
    },
    "kernelspec": {
      "name": "python3",
      "display_name": "Python 3"
    },
    "language_info": {
      "name": "python"
    },
    "gpuClass": "standard"
  },
  "cells": [
    {
      "cell_type": "markdown",
      "source": [
        "# Week-1\n",
        "\n",
        "**Note to Learners**: \n",
        "\n",
        "- Click on \"Copy to Drive\", the button that appears just below the taskbar, to make a copy of this notebook in your drive. If you continue working with this notebook, changes **will not** be saved.\n",
        "\n",
        "\n",
        "- For questions that involve plotting, just enter $0$ as the answer in the portal.\n",
        "- For numerical questions, there are two parts. The first part expects you to compute some quantity, say a parameter of a machine learning model. The second part will require you to convert this quantity (if it is not a scalar) into a scalar so that it can be entered as the answer on the portal to the corresponding NAT question.\n",
        "\n"
      ],
      "metadata": {
        "id": "53TcQvUOjGxr"
      }
    },
    {
      "cell_type": "markdown",
      "source": [
        "## Dataset\n",
        "\n",
        "We will be working with a subset of the [MNIST dataset](https://en.wikipedia.org/wiki/MNIST_database). Run the cell given below to generate the data-matrix $\\mathbf{X}$, which is of shape $(n, d)$, where $n$ denotes the number of samples and $d$ denotes the number of features. You will be using this dataset for the rest of the assignment. Do not edit this cell."
      ],
      "metadata": {
        "id": "I3DzbeU33QxN"
      }
    },
    {
      "cell_type": "code",
      "source": [
        "##### DATASET GENERATION #####\n",
        "import numpy as np\n",
        "from keras.datasets import mnist\n",
        "(X_train, y_train), (X_test, y_test) = mnist.load_data()\n",
        "X = X_train[y_train == 2][: 100].reshape(-1, 28 * 28)\n",
        "test_image = X_test[y_test == 2][0].reshape(28 * 28)\n",
        "##### DO NOT EDIT THIS CELL #####"
      ],
      "metadata": {
        "id": "uOBXmnyg3ZFH"
      },
      "execution_count": null,
      "outputs": []
    },
    {
      "cell_type": "markdown",
      "source": [
        "## Problem-1\n",
        "\n",
        "How many samples does the dataset have?"
      ],
      "metadata": {
        "id": "5RyvzK8z4o47"
      }
    },
    {
      "cell_type": "code",
      "source": [
        "X.shape[0]"
      ],
      "metadata": {
        "id": "rFXCXoje52x-",
        "colab": {
          "base_uri": "https://localhost:8080/"
        },
        "outputId": "8edd75b5-1789-4c97-c4ba-d919698da215"
      },
      "execution_count": null,
      "outputs": [
        {
          "output_type": "execute_result",
          "data": {
            "text/plain": [
              "100"
            ]
          },
          "metadata": {},
          "execution_count": 2
        }
      ]
    },
    {
      "cell_type": "markdown",
      "source": [
        "## Problem-2\n",
        "\n",
        "How many features does the dataset have?"
      ],
      "metadata": {
        "id": "UrmLi2sK4ynX"
      }
    },
    {
      "cell_type": "code",
      "source": [
        "X.shape[1]"
      ],
      "metadata": {
        "id": "WQ75O4D141R0",
        "colab": {
          "base_uri": "https://localhost:8080/"
        },
        "outputId": "4671dd6c-e1b0-4895-98e2-64d95ac5dc25"
      },
      "execution_count": null,
      "outputs": [
        {
          "output_type": "execute_result",
          "data": {
            "text/plain": [
              "784"
            ]
          },
          "metadata": {},
          "execution_count": 3
        }
      ]
    },
    {
      "cell_type": "markdown",
      "source": [
        "## Problem-3\n",
        "\n",
        "Each sample corresponds to an image of dimension $28 \\times 28$. Visualize one of these images using the `matplotlib` library. \n",
        "\n",
        "- You need to know how to reshape a feature vector. Refer to week-0 content for the same.\n",
        "- You can refer to the following [document](https://matplotlib.org/stable/tutorials/introductory/images.html#sphx-glr-tutorials-introductory-images-py) for plotting NumPy arrays as images using `matplotlib`."
      ],
      "metadata": {
        "id": "BPUFxtI55G2h"
      }
    },
    {
      "cell_type": "code",
      "source": [
        "import matplotlib.pyplot as plt \n",
        "%matplotlib inline\n",
        "X[5].shape # lets take 5th image in matrix and see shape\n",
        "# it is 784 dimension vector so we reshape"
      ],
      "metadata": {
        "id": "ExvRNXPZ6246",
        "colab": {
          "base_uri": "https://localhost:8080/"
        },
        "outputId": "5f18b181-f2b4-4836-b7f4-99ee6913e2ff"
      },
      "execution_count": null,
      "outputs": [
        {
          "output_type": "execute_result",
          "data": {
            "text/plain": [
              "(784,)"
            ]
          },
          "metadata": {},
          "execution_count": 4
        }
      ]
    },
    {
      "cell_type": "code",
      "source": [
        "image = X[5].reshape(28,28)\n",
        "image.shape"
      ],
      "metadata": {
        "colab": {
          "base_uri": "https://localhost:8080/"
        },
        "id": "Mx1WE0gMFKCr",
        "outputId": "332ac90c-4d17-4f5f-a87a-c728159acce8"
      },
      "execution_count": null,
      "outputs": [
        {
          "output_type": "execute_result",
          "data": {
            "text/plain": [
              "(28, 28)"
            ]
          },
          "metadata": {},
          "execution_count": 5
        }
      ]
    },
    {
      "cell_type": "code",
      "source": [
        "plt.imshow(image)"
      ],
      "metadata": {
        "colab": {
          "base_uri": "https://localhost:8080/",
          "height": 282
        },
        "id": "FErNolqUGICv",
        "outputId": "f08a01ba-1775-4896-9be5-f8b53a6c5683"
      },
      "execution_count": null,
      "outputs": [
        {
          "output_type": "execute_result",
          "data": {
            "text/plain": [
              "<matplotlib.image.AxesImage at 0x7f59a7d530d0>"
            ]
          },
          "metadata": {},
          "execution_count": 6
        },
        {
          "output_type": "display_data",
          "data": {
            "text/plain": [
              "<Figure size 432x288 with 1 Axes>"
            ],
            "image/png": "[encoded data removed]"
          },
          "metadata": {
            "needs_background": "light"
          }
        }
      ]
    },
    {
      "cell_type": "code",
      "source": [
        "plt.imshow(image, cmap='gray')"
      ],
      "metadata": {
        "colab": {
          "base_uri": "https://localhost:8080/",
          "height": 282
        },
        "id": "QcAjHENgGlaV",
        "outputId": "be0ddd8f-e191-4dae-c360-be7d9b5d488c"
      },
      "execution_count": null,
      "outputs": [
        {
          "output_type": "execute_result",
          "data": {
            "text/plain": [
              "<matplotlib.image.AxesImage at 0x7f59a783e490>"
            ]
          },
          "metadata": {},
          "execution_count": 7
        },
        {
          "output_type": "display_data",
          "data": {
            "text/plain": [
              "<Figure size 432x288 with 1 Axes>"
            ],
            "image/png": "[encoded data removed]"
          },
          "metadata": {
            "needs_background": "light"
          }
        }
      ]
    },
    {
      "cell_type": "code",
      "source": [
        "image2 = image[0:5,0:5] = 255\n",
        "plt.imshow(image)\n",
        "# 255 means white and 0 means black"
      ],
      "metadata": {
        "colab": {
          "base_uri": "https://localhost:8080/",
          "height": 282
        },
        "id": "NnzAQo4vGxWc",
        "outputId": "6a3296ac-fb1c-480b-dbca-4e7f412bd7a0"
      },
      "execution_count": null,
      "outputs": [
        {
          "output_type": "execute_result",
          "data": {
            "text/plain": [
              "<matplotlib.image.AxesImage at 0x7f59a7836550>"
            ]
          },
          "metadata": {},
          "execution_count": 8
        },
        {
          "output_type": "display_data",
          "data": {
            "text/plain": [
              "<Figure size 432x288 with 1 Axes>"
            ],
            "image/png": "[encoded data removed]"
          },
          "metadata": {
            "needs_background": "light"
          }
        }
      ]
    },
    {
      "cell_type": "markdown",
      "source": [
        "## Problem-4\n",
        "\n",
        "Center the the dataset $\\mathbf{X}$ around its mean. Call this centered dataset $\\mathbf{X}^{\\prime}$.\n",
        "\n",
        "<u>Conversion</u>\n",
        "\n",
        "Enter the following quantity as your answer correct to two decimal places:\n",
        "\n",
        "$$\n",
        "\\cfrac{1}{n \\cdot d} \\sqrt{\\sum \\limits_{i = 1}^{n} \\sum \\limits_{j = 1}^{d} (X_{ij}^{\\prime})^2}\n",
        "$$"
      ],
      "metadata": {
        "id": "8e2xflo8FF8K"
      }
    },
    {
      "cell_type": "code",
      "source": [
        "# find the mean\n",
        "# X is of shape n X d\n",
        "# so, we have to calculate mean along axis 0\n",
        "X_mean = X.mean(axis = 0)\n",
        "X_prime = X - X_mean"
      ],
      "metadata": {
        "id": "9uNDPtBjH5Df"
      },
      "execution_count": null,
      "outputs": []
    },
    {
      "cell_type": "code",
      "source": [
        "# Verify if centered data\n",
        "\n",
        "X_prime.mean(axis = 0).sum() # very close to zero"
      ],
      "metadata": {
        "colab": {
          "base_uri": "https://localhost:8080/"
        },
        "id": "j2Udw0M7Isf3",
        "outputId": "a23f1cd2-8ca9-4f20-faad-65cd1650e70b"
      },
      "execution_count": null,
      "outputs": [
        {
          "output_type": "execute_result",
          "data": {
            "text/plain": [
              "-1.3353262939830308e-13"
            ]
          },
          "metadata": {},
          "execution_count": 10
        }
      ]
    },
    {
      "cell_type": "code",
      "source": [
        "n = X_prime.shape[0]\n",
        "d = X_prime.shape[1]\n",
        "\n",
        "numer = np.sqrt((X_prime ** 2).sum())\n",
        "denom = n * d\n",
        "ans = numer / denom"
      ],
      "metadata": {
        "id": "dv1CW1E3KHa3"
      },
      "execution_count": null,
      "outputs": []
    },
    {
      "cell_type": "code",
      "source": [
        "ans"
      ],
      "metadata": {
        "colab": {
          "base_uri": "https://localhost:8080/"
        },
        "id": "ph-ReMdlKlhX",
        "outputId": "a61b1458-0424-4b51-d98d-eca3a1f09945"
      },
      "execution_count": null,
      "outputs": [
        {
          "output_type": "execute_result",
          "data": {
            "text/plain": [
              "0.23298430527117953"
            ]
          },
          "metadata": {},
          "execution_count": 12
        }
      ]
    },
    {
      "cell_type": "markdown",
      "source": [
        "## Problem-5\n",
        "\n",
        "Compute the covariance matrix $\\mathbf{C}$ of the centered dataset.\n",
        "\n",
        "<u>Conversion</u>\n",
        "\n",
        "Enter the following quantity as your answer correct to two decimal places:\n",
        "\n",
        "$$\n",
        "\\cfrac{1}{d^2} \\sqrt{\\sum \\limits_{i = 1}^{d} \\sum \\limits_{j = 1}^{d} C_{ij}^2}\n",
        "$$"
      ],
      "metadata": {
        "id": "8UPKuD8uJCnE"
      }
    },
    {
      "cell_type": "code",
      "source": [
        "# Check the shape\n",
        "X_prime.shape"
      ],
      "metadata": {
        "id": "ZWT1bzBDlk2m",
        "colab": {
          "base_uri": "https://localhost:8080/"
        },
        "outputId": "39b7b9df-c081-4ab5-81a6-c01df67a7ff1"
      },
      "execution_count": null,
      "outputs": [
        {
          "output_type": "execute_result",
          "data": {
            "text/plain": [
              "(100, 784)"
            ]
          },
          "metadata": {},
          "execution_count": 13
        }
      ]
    },
    {
      "cell_type": "code",
      "source": [
        "# Finding the covariance matrix\n",
        "C = (X_prime.T @ X_prime) / X_prime.shape[0]\n",
        "# C >> d x d\n",
        "np.sqrt((C**2).sum())/ (C.shape[0] ** 2)"
      ],
      "metadata": {
        "colab": {
          "base_uri": "https://localhost:8080/"
        },
        "id": "D2Y168ItI92v",
        "outputId": "f80b846f-d0aa-469b-f428-c8f993ba725b"
      },
      "execution_count": null,
      "outputs": [
        {
          "output_type": "execute_result",
          "data": {
            "text/plain": [
              "1.366129820401273"
            ]
          },
          "metadata": {},
          "execution_count": 14
        }
      ]
    },
    {
      "cell_type": "code",
      "source": [
        "C.shape"
      ],
      "metadata": {
        "colab": {
          "base_uri": "https://localhost:8080/"
        },
        "id": "nfs8UKzRJ8M2",
        "outputId": "e87f081e-b9e9-4ee0-a711-d78f34bb29b2"
      },
      "execution_count": null,
      "outputs": [
        {
          "output_type": "execute_result",
          "data": {
            "text/plain": [
              "(784, 784)"
            ]
          },
          "metadata": {},
          "execution_count": 15
        }
      ]
    },
    {
      "cell_type": "markdown",
      "source": [
        "## Problem-6\n",
        "\n",
        "Compute the first and second principal components of the dataset, $\\mathbf{w}_1$ and $\\mathbf{w}_2$.\n",
        "\n",
        "<u>Conversion</u>\n",
        "\n",
        "Compute:\n",
        "$$\n",
        "\\mathbf{w} = \\mathbf{w}_1 + \\mathbf{w}_2\n",
        "$$\n",
        "\n",
        "Enter the following quantity as your answer correct to two decimal places:\n",
        "\n",
        "$$\n",
        "\\left| \\sum \\limits_{i = 1}^{d} w_i \\right|\n",
        "$$"
      ],
      "metadata": {
        "id": "FfJK8OiMr2mh"
      }
    },
    {
      "cell_type": "code",
      "source": [
        "# We have C matrix with us\n",
        "C.shape\n",
        "\n",
        "# compute the eigen vectors of C\n",
        "\n",
        "np.linalg.eigh?\n",
        "eigval, eigvec = np.linalg.eigh(C)"
      ],
      "metadata": {
        "id": "KgJ1FCa1tvZR"
      },
      "execution_count": null,
      "outputs": []
    },
    {
      "cell_type": "code",
      "source": [
        "# First 10 eigen values in ascending order\n",
        "eigval[:10]"
      ],
      "metadata": {
        "colab": {
          "base_uri": "https://localhost:8080/"
        },
        "id": "ylWNbuceMqZy",
        "outputId": "27d2ec83-c66d-4c87-d6b8-05141f97290b"
      },
      "execution_count": null,
      "outputs": [
        {
          "output_type": "execute_result",
          "data": {
            "text/plain": [
              "array([-1.05665528e-10, -7.39787217e-11, -6.62007460e-11, -6.17415582e-11,\n",
              "       -6.06143857e-11, -5.64198345e-11, -5.50871321e-11, -5.50632804e-11,\n",
              "       -5.44286014e-11, -5.43659901e-11])"
            ]
          },
          "metadata": {},
          "execution_count": 17
        }
      ]
    },
    {
      "cell_type": "code",
      "source": [
        "# Last 10 eigenvalues\n",
        "eigval[-10:]"
      ],
      "metadata": {
        "colab": {
          "base_uri": "https://localhost:8080/"
        },
        "id": "-hnAcWGaNA-B",
        "outputId": "1cb8d5a0-a835-4c31-81fb-db58c42e83f9"
      },
      "execution_count": null,
      "outputs": [
        {
          "output_type": "execute_result",
          "data": {
            "text/plain": [
              "array([ 81055.80788158,  94578.47274997,  96525.1215994 , 134866.65981127,\n",
              "       141878.30832695, 167985.75081097, 210598.98987672, 237581.58319603,\n",
              "       286280.09355663, 624014.72804358])"
            ]
          },
          "metadata": {},
          "execution_count": 18
        }
      ]
    },
    {
      "cell_type": "code",
      "source": [
        "# Take last 2 eigen vectors\n",
        "w1, w2 = eigvec[:,-1], eigvec[:,-2]\n",
        "# eigvec.sum()\n",
        "# eigen vectors are arranged column wise"
      ],
      "metadata": {
        "id": "rU0VzQaINVpX"
      },
      "execution_count": null,
      "outputs": []
    },
    {
      "cell_type": "markdown",
      "source": [
        "## Problem-7\n",
        "\n",
        "Visualize the first principal component as an image."
      ],
      "metadata": {
        "id": "9CBt_pmj-5pl"
      }
    },
    {
      "cell_type": "code",
      "source": [
        "image_w1  = w1.reshape(28,28)\n",
        "plt.imshow(image_w1)"
      ],
      "metadata": {
        "id": "KXiJLyT7_N29",
        "colab": {
          "base_uri": "https://localhost:8080/",
          "height": 282
        },
        "outputId": "f2dc9196-b799-4d62-9276-7225ddb6647a"
      },
      "execution_count": null,
      "outputs": [
        {
          "output_type": "execute_result",
          "data": {
            "text/plain": [
              "<matplotlib.image.AxesImage at 0x7f59a4f00110>"
            ]
          },
          "metadata": {},
          "execution_count": 20
        },
        {
          "output_type": "display_data",
          "data": {
            "text/plain": [
              "<Figure size 432x288 with 1 Axes>"
            ],
            "image/png": "[encoded data removed]"
          },
          "metadata": {
            "needs_background": "light"
          }
        }
      ]
    },
    {
      "cell_type": "markdown",
      "source": [
        "## Problem-8\n",
        "\n",
        "Find the smallest value of $k$ for which the first $k$ principal components capture at least $95\\%$ of the variance in the data."
      ],
      "metadata": {
        "id": "o37ie_mqxqhy"
      }
    },
    {
      "cell_type": "code",
      "source": [
        "# eigen values contain the variance\n",
        "\n",
        "vals = list(reversed(eigval))\n",
        "vals[: 5] # sort in descending order"
      ],
      "metadata": {
        "id": "_JiPpEwCyvQK",
        "colab": {
          "base_uri": "https://localhost:8080/"
        },
        "outputId": "cd454bdf-9105-4783-89fa-aefcb6407540"
      },
      "execution_count": null,
      "outputs": [
        {
          "output_type": "execute_result",
          "data": {
            "text/plain": [
              "[624014.7280435808,\n",
              " 286280.09355663095,\n",
              " 237581.58319603014,\n",
              " 210598.98987671547,\n",
              " 167985.7508109714]"
            ]
          },
          "metadata": {},
          "execution_count": 21
        }
      ]
    },
    {
      "cell_type": "code",
      "source": [
        "# total variance in dataset:\n",
        "sum(vals)"
      ],
      "metadata": {
        "colab": {
          "base_uri": "https://localhost:8080/"
        },
        "id": "A7YF867jQ8a7",
        "outputId": "a2bebd11-2307-43e4-9bb1-bc3a19124d11"
      },
      "execution_count": null,
      "outputs": [
        {
          "output_type": "execute_result",
          "data": {
            "text/plain": [
              "3336456.4299000013"
            ]
          },
          "metadata": {},
          "execution_count": 22
        }
      ]
    },
    {
      "cell_type": "code",
      "source": [
        "# variance in first k directions\n",
        "# firstk = sum(vals[: k])\n",
        "\n",
        "# total variance \n",
        "# total = sum(vals)\n",
        "\n",
        "ratios = [sum(vals[: k])/ sum(vals) for k in range(1,len(vals))]\n",
        "ratios[: 10] # first 10 has 62% variance"
      ],
      "metadata": {
        "colab": {
          "base_uri": "https://localhost:8080/"
        },
        "id": "KEUSm_7qRB7S",
        "outputId": "24d34105-eb35-4559-cc9d-eb49578815aa"
      },
      "execution_count": null,
      "outputs": [
        {
          "output_type": "execute_result",
          "data": {
            "text/plain": [
              "[0.18702918535108323,\n",
              " 0.272832821505628,\n",
              " 0.3440405798527528,\n",
              " 0.40716113733685805,\n",
              " 0.4575096895629713,\n",
              " 0.500033340420658,\n",
              " 0.5404554657038309,\n",
              " 0.5693858964249938,\n",
              " 0.5977328791406654,\n",
              " 0.6220268597708912]"
            ]
          },
          "metadata": {},
          "execution_count": 23
        }
      ]
    },
    {
      "cell_type": "code",
      "source": [
        "ratios[:53] # captures 95%"
      ],
      "metadata": {
        "colab": {
          "base_uri": "https://localhost:8080/"
        },
        "id": "h-KxHDQNRxuj",
        "outputId": "76e67a03-2f53-4d0a-8d55-2432d9cef0ee"
      },
      "execution_count": null,
      "outputs": [
        {
          "output_type": "execute_result",
          "data": {
            "text/plain": [
              "[0.18702918535108323,\n",
              " 0.272832821505628,\n",
              " 0.3440405798527528,\n",
              " 0.40716113733685805,\n",
              " 0.4575096895629713,\n",
              " 0.500033340420658,\n",
              " 0.5404554657038309,\n",
              " 0.5693858964249938,\n",
              " 0.5977328791406654,\n",
              " 0.6220268597708912,\n",
              " 0.6445594127348089,\n",
              " 0.6647575174263475,\n",
              " 0.6825863872331185,\n",
              " 0.6995434776659155,\n",
              " 0.7151619854171261,\n",
              " 0.7297248018414321,\n",
              " 0.7435335683400951,\n",
              " 0.756227612421684,\n",
              " 0.7681665566855438,\n",
              " 0.7792412821522916,\n",
              " 0.790188378303195,\n",
              " 0.7998839930324959,\n",
              " 0.8090413779654263,\n",
              " 0.8179615331866859,\n",
              " 0.8261391130595901,\n",
              " 0.8339772365270203,\n",
              " 0.8415995328222654,\n",
              " 0.8489114045469991,\n",
              " 0.8558913029629927,\n",
              " 0.862498943890877,\n",
              " 0.8683648736077937,\n",
              " 0.8740160028473881,\n",
              " 0.8795685609688807,\n",
              " 0.8849963658256413,\n",
              " 0.8901375104525378,\n",
              " 0.8948904173794329,\n",
              " 0.8994140107482388,\n",
              " 0.9037268369988093,\n",
              " 0.9077668505768085,\n",
              " 0.9116985291318486,\n",
              " 0.9154667027047491,\n",
              " 0.9191590598511977,\n",
              " 0.9227072024904501,\n",
              " 0.9261023651750432,\n",
              " 0.9292654977321465,\n",
              " 0.9323634382271876,\n",
              " 0.9351938603802097,\n",
              " 0.9379252599275618,\n",
              " 0.9405761467188167,\n",
              " 0.9431610433954427,\n",
              " 0.9457153006504546,\n",
              " 0.948143125572383,\n",
              " 0.9503999201450183]"
            ]
          },
          "metadata": {},
          "execution_count": 24
        }
      ]
    },
    {
      "cell_type": "code",
      "source": [
        "for k, ratio in enumerate(ratios):\n",
        "  if ratio >= 0.95:\n",
        "    break\n",
        "k + 1"
      ],
      "metadata": {
        "colab": {
          "base_uri": "https://localhost:8080/"
        },
        "id": "QHUa9hIcSSll",
        "outputId": "9617b372-12c0-4451-f2e1-ee4195b4242b"
      },
      "execution_count": null,
      "outputs": [
        {
          "output_type": "execute_result",
          "data": {
            "text/plain": [
              "53"
            ]
          },
          "metadata": {},
          "execution_count": 25
        }
      ]
    },
    {
      "cell_type": "markdown",
      "source": [
        "## Problem-9\n",
        "\n",
        "Given a `test_image`, visualize the proxies  by reconstructing it using the top $k$ principal components. Consider four values of $k$; values of $k$ for which the top-$k$ principal components explain:\n",
        "\n",
        "- 20% of the variance\n",
        "- 50% of the variance\n",
        "- 80% of the variance\n",
        "- 95% of the variance\n",
        "\n"
      ],
      "metadata": {
        "id": "5raTmu_s0Gpq"
      }
    },
    {
      "cell_type": "code",
      "source": [
        "\n",
        "mean_test_image = test_image - X.mean(axis = 0)\n",
        "plt.imshow(mean_test_image.reshape(28,28), cmap = 'gray')"
      ],
      "metadata": {
        "id": "yrjf1Er24vLo",
        "colab": {
          "base_uri": "https://localhost:8080/",
          "height": 282
        },
        "outputId": "5907b75c-9fd6-4453-d3b4-5b9a12d2e1e4"
      },
      "execution_count": null,
      "outputs": [
        {
          "output_type": "execute_result",
          "data": {
            "text/plain": [
              "<matplotlib.image.AxesImage at 0x7f59a4e7c1d0>"
            ]
          },
          "metadata": {},
          "execution_count": 26
        },
        {
          "output_type": "display_data",
          "data": {
            "text/plain": [
              "<Figure size 432x288 with 1 Axes>"
            ],
            "image/png": "[encoded data removed]"
          },
          "metadata": {
            "needs_background": "light"
          }
        }
      ]
    },
    {
      "cell_type": "code",
      "source": [
        "# (X.T*w1)*w1\n",
        "recon = np.zeros(784)\n",
        "for i in range(20):\n",
        "  recon += (mean_test_image @ eigvec[: , -1 - i] ) * eigvec[: , -1-i]\n",
        "\n",
        "plt.imshow(recon.reshape(28,28), cmap = 'gray')"
      ],
      "metadata": {
        "colab": {
          "base_uri": "https://localhost:8080/",
          "height": 282
        },
        "id": "VWgWT6RsS9Wd",
        "outputId": "5c9acca9-7e7f-49f8-c6cd-35873d6d556b"
      },
      "execution_count": null,
      "outputs": [
        {
          "output_type": "execute_result",
          "data": {
            "text/plain": [
              "<matplotlib.image.AxesImage at 0x7f59a3d89e10>"
            ]
          },
          "metadata": {},
          "execution_count": 40
        },
        {
          "output_type": "display_data",
          "data": {
            "text/plain": [
              "<Figure size 432x288 with 1 Axes>"
            ],
            "image/png": "[encoded data removed]"
          },
          "metadata": {
            "needs_background": "light"
          }
        }
      ]
    },
    {
      "cell_type": "markdown",
      "source": [
        "# EXTRAS:"
      ],
      "metadata": {
        "id": "wvk1af3pBCru"
      }
    },
    {
      "cell_type": "code",
      "source": [
        "# What is dimension in numpy\n",
        "X.ndim\n",
        "# Dimension of matrix >> Shape of array in numpy\n",
        "# vectors >> 1D NumPy array\n",
        "# matrices >> 2D NumPy array"
      ],
      "metadata": {
        "colab": {
          "base_uri": "https://localhost:8080/"
        },
        "id": "M4vNowuADq0i",
        "outputId": "1fe1e69a-0427-4384-b91b-33edcdd437fe"
      },
      "execution_count": null,
      "outputs": [
        {
          "output_type": "execute_result",
          "data": {
            "text/plain": [
              "2"
            ]
          },
          "metadata": {},
          "execution_count": 27
        }
      ]
    },
    {
      "cell_type": "code",
      "source": [
        "# images >> 3D NumPy array\n",
        "X_train.shape\n",
        "\n",
        "# 60,000 images\n",
        "# 28 x 28 "
      ],
      "metadata": {
        "colab": {
          "base_uri": "https://localhost:8080/"
        },
        "id": "T-s-sbscDv8b",
        "outputId": "f9225097-0dfd-4866-c89f-3a9d6ec4f5d2"
      },
      "execution_count": null,
      "outputs": [
        {
          "output_type": "execute_result",
          "data": {
            "text/plain": [
              "(60000, 28, 28)"
            ]
          },
          "metadata": {},
          "execution_count": 28
        }
      ]
    },
    {
      "cell_type": "code",
      "source": [
        "X_train[0][14][3]\n",
        "# i.e. In the zeroth image of the dataset\n",
        "# gives the pixel value of 14 th row and 3rd column\n"
      ],
      "metadata": {
        "colab": {
          "base_uri": "https://localhost:8080/"
        },
        "id": "hneGdw-CEDW2",
        "outputId": "3563f693-af40-4c84-cba7-d04d325ef7d2"
      },
      "execution_count": null,
      "outputs": [
        {
          "output_type": "execute_result",
          "data": {
            "text/plain": [
              "0"
            ]
          },
          "metadata": {},
          "execution_count": 29
        }
      ]
    },
    {
      "cell_type": "code",
      "source": [
        "# Reshape concept:\n",
        "\n",
        "import numpy as np\n",
        "\n",
        "Z = np.array([1,2,3,4,5,6])\n",
        "Z.reshape(3,2)\n",
        "\n",
        "# reshape is row wise and not column wise"
      ],
      "metadata": {
        "colab": {
          "base_uri": "https://localhost:8080/"
        },
        "id": "aKlLdpJAEhA4",
        "outputId": "1a7f45df-95cd-42e0-c9d0-6cccf89a37c1"
      },
      "execution_count": null,
      "outputs": [
        {
          "output_type": "execute_result",
          "data": {
            "text/plain": [
              "array([[1, 2],\n",
              "       [3, 4],\n",
              "       [5, 6]])"
            ]
          },
          "metadata": {},
          "execution_count": 30
        }
      ]
    },
    {
      "cell_type": "code",
      "source": [
        "Z.reshape(2,3)"
      ],
      "metadata": {
        "colab": {
          "base_uri": "https://localhost:8080/"
        },
        "id": "rbJ0dy5xFcgm",
        "outputId": "9033bb19-2913-44ea-f166-bdaf76fd16dd"
      },
      "execution_count": null,
      "outputs": [
        {
          "output_type": "execute_result",
          "data": {
            "text/plain": [
              "array([[1, 2, 3],\n",
              "       [4, 5, 6]])"
            ]
          },
          "metadata": {},
          "execution_count": 31
        }
      ]
    },
    {
      "cell_type": "code",
      "source": [
        "Z.reshape(2,-1)"
      ],
      "metadata": {
        "colab": {
          "base_uri": "https://localhost:8080/"
        },
        "id": "AEhc4ZrLFe2T",
        "outputId": "e9dc83fe-c081-40e3-f70a-17f8edf0d209"
      },
      "execution_count": null,
      "outputs": [
        {
          "output_type": "execute_result",
          "data": {
            "text/plain": [
              "array([[1, 2, 3],\n",
              "       [4, 5, 6]])"
            ]
          },
          "metadata": {},
          "execution_count": 32
        }
      ]
    },
    {
      "cell_type": "code",
      "source": [
        "# mean along axis and column:\n",
        "\n",
        "L = np.array([[1,2,3],[4,5,6],[7,8,9],[10,11,12],[13,14,15]])\n",
        "L"
      ],
      "metadata": {
        "colab": {
          "base_uri": "https://localhost:8080/"
        },
        "id": "zByJvGD8Fiml",
        "outputId": "10ef1c99-1989-44e4-97bd-ad6524fdcb46"
      },
      "execution_count": null,
      "outputs": [
        {
          "output_type": "execute_result",
          "data": {
            "text/plain": [
              "array([[ 1,  2,  3],\n",
              "       [ 4,  5,  6],\n",
              "       [ 7,  8,  9],\n",
              "       [10, 11, 12],\n",
              "       [13, 14, 15]])"
            ]
          },
          "metadata": {},
          "execution_count": 33
        }
      ]
    },
    {
      "cell_type": "code",
      "source": [
        "L.mean(axis = 0)\n",
        "# top to bottom"
      ],
      "metadata": {
        "colab": {
          "base_uri": "https://localhost:8080/"
        },
        "id": "__Hf8VIDIHRg",
        "outputId": "2d0c8bac-6dc6-4fc5-c3bb-0ec82c37a8c2"
      },
      "execution_count": null,
      "outputs": [
        {
          "output_type": "execute_result",
          "data": {
            "text/plain": [
              "array([7., 8., 9.])"
            ]
          },
          "metadata": {},
          "execution_count": 34
        }
      ]
    },
    {
      "cell_type": "code",
      "source": [
        "L.mean(axis = 1)"
      ],
      "metadata": {
        "colab": {
          "base_uri": "https://localhost:8080/"
        },
        "id": "KpH4C_LKIMk1",
        "outputId": "b9e5d362-1d37-4c2c-bc81-c3c3bff733d1"
      },
      "execution_count": null,
      "outputs": [
        {
          "output_type": "execute_result",
          "data": {
            "text/plain": [
              "array([ 2.,  5.,  8., 11., 14.])"
            ]
          },
          "metadata": {},
          "execution_count": 35
        }
      ]
    },
    {
      "cell_type": "code",
      "source": [
        "M = np.arange(15).reshape(5,3)\n",
        "M"
      ],
      "metadata": {
        "colab": {
          "base_uri": "https://localhost:8080/"
        },
        "id": "ZszmeIhrIQOc",
        "outputId": "2338b215-33b0-49b1-a55f-09b295f178f4"
      },
      "execution_count": null,
      "outputs": [
        {
          "output_type": "execute_result",
          "data": {
            "text/plain": [
              "array([[ 0,  1,  2],\n",
              "       [ 3,  4,  5],\n",
              "       [ 6,  7,  8],\n",
              "       [ 9, 10, 11],\n",
              "       [12, 13, 14]])"
            ]
          },
          "metadata": {},
          "execution_count": 36
        }
      ]
    },
    {
      "cell_type": "code",
      "source": [
        "M[0]"
      ],
      "metadata": {
        "colab": {
          "base_uri": "https://localhost:8080/"
        },
        "id": "5PId-BL0NmWU",
        "outputId": "1bfe7729-b00f-4689-f7fd-914406f8a5f2"
      },
      "execution_count": null,
      "outputs": [
        {
          "output_type": "execute_result",
          "data": {
            "text/plain": [
              "array([0, 1, 2])"
            ]
          },
          "metadata": {},
          "execution_count": 37
        }
      ]
    },
    {
      "cell_type": "code",
      "source": [
        "M[:,0]"
      ],
      "metadata": {
        "colab": {
          "base_uri": "https://localhost:8080/"
        },
        "id": "6Zp62hQ2No7Q",
        "outputId": "c3223581-c036-454b-adc3-4c1456befe99"
      },
      "execution_count": null,
      "outputs": [
        {
          "output_type": "execute_result",
          "data": {
            "text/plain": [
              "array([ 0,  3,  6,  9, 12])"
            ]
          },
          "metadata": {},
          "execution_count": 38
        }
      ]
    },
    {
      "cell_type": "code",
      "source": [],
      "metadata": {
        "id": "fs9o9NSMNrCF"
      },
      "execution_count": null,
      "outputs": []
    }
  ]
}